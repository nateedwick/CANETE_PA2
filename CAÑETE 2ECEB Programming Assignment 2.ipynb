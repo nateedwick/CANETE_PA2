{
 "cells": [
  {
   "cell_type": "markdown",
   "id": "77cce2c6-4a7b-447c-b57a-7496414bd9a6",
   "metadata": {},
   "source": [
    "NORMALIZATION PROBLEM:"
   ]
  },
  {
   "cell_type": "code",
   "execution_count": 11,
   "id": "8fdfa05c-76d2-4c15-bea2-1795572eeec0",
   "metadata": {},
   "outputs": [
    {
     "name": "stdout",
     "output_type": "stream",
     "text": [
      "Original Array:\n",
      " [[0.45863091 0.05449412 0.38320267 0.23937585 0.02162464]\n",
      " [0.71973644 0.90737304 0.82713924 0.85869215 0.56525697]\n",
      " [0.45362452 0.2744174  0.52302925 0.67169798 0.30435298]\n",
      " [0.00522155 0.33692658 0.76417718 0.98547387 0.83003455]\n",
      " [0.76131642 0.79698092 0.19061577 0.05624348 0.01285694]]\n",
      "\n",
      "Normalized Array:\n",
      " [[-0.06860198 -1.35998483 -0.30962615 -0.76921183 -1.4650163 ]\n",
      " [ 0.76573734  1.36531324  1.10893336  1.20975784  0.27211206]\n",
      " [-0.08459942 -0.65723972  0.13717716  0.61223474 -0.56158324]\n",
      " [-1.51743089 -0.45749723  0.90774372  1.61487744  1.11818505]\n",
      " [ 0.89860244  1.01256513 -0.92502031 -1.35439491 -1.49303271]]\n"
     ]
    }
   ],
   "source": [
    "import numpy as np\n",
    "\n",
    "X = np.random.random((5, 5))           # random 5x5 ndarray (5 rows at columns)\n",
    "\n",
    "X_normalized = (X - X.mean()) / X.std()     # normalization process (formula = subtract mean sa each elements tas divide sa sd)\n",
    "\n",
    "np.save(\"X_normalized.npy\", X_normalized)   # saves normalized array as .npy\n",
    "\n",
    "print(\"Original Array:\\n\", X)\n",
    "print(\"\\nNormalized Array:\\n\", X_normalized)"
   ]
  },
  {
   "cell_type": "markdown",
   "id": "3acab1bc-2267-4158-ae06-f9dfc29b2f76",
   "metadata": {},
   "source": [
    "DIVISIBLE BY 3 PROBLEM:"
   ]
  },
  {
   "cell_type": "code",
   "execution_count": 8,
   "id": "8fd5e383-164b-4232-8f9f-9a9da10405a6",
   "metadata": {},
   "outputs": [
    {
     "name": "stdout",
     "output_type": "stream",
     "text": [
      "10x10 Array:\n",
      " [[    1     4     9    16    25    36    49    64    81   100]\n",
      " [  121   144   169   196   225   256   289   324   361   400]\n",
      " [  441   484   529   576   625   676   729   784   841   900]\n",
      " [  961  1024  1089  1156  1225  1296  1369  1444  1521  1600]\n",
      " [ 1681  1764  1849  1936  2025  2116  2209  2304  2401  2500]\n",
      " [ 2601  2704  2809  2916  3025  3136  3249  3364  3481  3600]\n",
      " [ 3721  3844  3969  4096  4225  4356  4489  4624  4761  4900]\n",
      " [ 5041  5184  5329  5476  5625  5776  5929  6084  6241  6400]\n",
      " [ 6561  6724  6889  7056  7225  7396  7569  7744  7921  8100]\n",
      " [ 8281  8464  8649  8836  9025  9216  9409  9604  9801 10000]]\n",
      "\n",
      "Divisible by 3:\n",
      " [   9   36   81  144  225  324  441  576  729  900 1089 1296 1521 1764\n",
      " 2025 2304 2601 2916 3249 3600 3969 4356 4761 5184 5625 6084 6561 7056\n",
      " 7569 8100 8649 9216 9801]\n"
     ]
    }
   ],
   "source": [
    "import numpy as np\n",
    "\n",
    "A = np.arange(1, 101)**2          # squares of first 100 integers (arange pero walang interval)\n",
    "A = A.reshape(10, 10)             # reshapes array into 10x10 (10 rows at columns)\n",
    "\n",
    "div_by_3 = A[A % 3 == 0]          # get elements na divisible by 3 lang\n",
    "\n",
    "np.save(\"div_by_3.npy\", div_by_3)  # save as .npy\n",
    "\n",
    "print(\"10x10 Array:\\n\", A)\n",
    "print(\"\\nDivisible by 3:\\n\", div_by_3)"
   ]
  }
 ],
 "metadata": {
  "kernelspec": {
   "display_name": "Python 3 (ipykernel)",
   "language": "python",
   "name": "python3"
  },
  "language_info": {
   "codemirror_mode": {
    "name": "ipython",
    "version": 3
   },
   "file_extension": ".py",
   "mimetype": "text/x-python",
   "name": "python",
   "nbconvert_exporter": "python",
   "pygments_lexer": "ipython3",
   "version": "3.13.5"
  }
 },
 "nbformat": 4,
 "nbformat_minor": 5
}
